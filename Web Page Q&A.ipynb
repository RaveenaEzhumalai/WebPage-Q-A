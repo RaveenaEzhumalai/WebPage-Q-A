{
 "cells": [
  {
   "cell_type": "code",
   "execution_count": null,
   "id": "75104eb6",
   "metadata": {},
   "outputs": [],
   "source": [
    "#Problem Statement 1 : Webpage Question Answering\n"
   ]
  },
  {
   "cell_type": "code",
   "execution_count": 1,
   "id": "a31ef6d3",
   "metadata": {},
   "outputs": [
    {
     "name": "stdout",
     "output_type": "stream",
     "text": [
      "Enter the webpage URL (e.g., 'Generative_artificial_intelligence'): https://en.wikipedia.org/wiki/Generative_artificial_intelligence\n",
      "Enter your question: What are the concerns around Generative AI?\n",
      "\n",
      "Answer:\n",
      " I don't know the answer.\n"
     ]
    }
   ],
   "source": [
    "import requests\n",
    "from bs4 import BeautifulSoup\n",
    "\n",
    "class WebpageQA:\n",
    "    def __init__(self):\n",
    "        self.base_url = \"https://en.wikipedia.org/wiki/\"\n",
    "\n",
    "    def get_answer(self, url, question):\n",
    "        try:\n",
    "            full_url = self.base_url + url\n",
    "            response = requests.get(full_url)\n",
    "            soup = BeautifulSoup(response.content, \"html.parser\")\n",
    "\n",
    "            # Find relevant content (e.g., paragraphs) on the page\n",
    "            relevant_content = soup.find_all(\"p\")\n",
    "\n",
    "            # Search for the answer within the relevant content\n",
    "            for content in relevant_content:\n",
    "                if question.lower() in content.text.lower():\n",
    "                    return content.text.strip()\n",
    "\n",
    "            # If answer not found, respond with \"I don't know the answer\"\n",
    "            return \"I don't know the answer.\"\n",
    "\n",
    "        except Exception as e:\n",
    "            return f\"Error: {str(e)}\"\n",
    "\n",
    "if __name__ == \"__main__\":\n",
    "    generator = WebpageQA()\n",
    "    input_url = input(\"Enter the webpage URL (e.g., 'Generative_artificial_intelligence'): \")\n",
    "    input_question = input(\"Enter your question: \")\n",
    "    generated_answer = generator.get_answer(input_url, input_question)\n",
    "    print(\"\\nAnswer:\\n\", generated_answer)\n"
   ]
  }
 ],
 "metadata": {
  "celltoolbar": "Raw Cell Format",
  "kernelspec": {
   "display_name": "Python 3 (ipykernel)",
   "language": "python",
   "name": "python3"
  },
  "language_info": {
   "codemirror_mode": {
    "name": "ipython",
    "version": 3
   },
   "file_extension": ".py",
   "mimetype": "text/x-python",
   "name": "python",
   "nbconvert_exporter": "python",
   "pygments_lexer": "ipython3",
   "version": "3.9.13"
  }
 },
 "nbformat": 4,
 "nbformat_minor": 5
}
